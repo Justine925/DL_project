{
 "cells": [
  {
   "cell_type": "markdown",
   "metadata": {},
   "source": [
    "# Test on ResNet pretrained model"
   ]
  },
  {
   "cell_type": "code",
   "execution_count": 1,
   "metadata": {},
   "outputs": [],
   "source": [
    "import torch\n",
    "from data_handling import print_accuracy_results,print_accuracy_species_results, print_confusion_matrix, print_classification_errors, write_result_report\n",
    "from settings import get_test_dataloader\n",
    "from functions import test_model\n",
    "from models import getResNetModel"
   ]
  },
  {
   "cell_type": "code",
   "execution_count": 2,
   "metadata": {},
   "outputs": [
    {
     "name": "stderr",
     "output_type": "stream",
     "text": [
      "c:\\Users\\Justine_B\\OneDrive\\Documents\\UTC\\GI05\\DL\\DeepLearningAndGenerativeModelsCourse-main\\Project\\settings.py:55: UserWarning: To copy construct from a tensor, it is recommended to use sourceTensor.clone().detach() or sourceTensor.clone().detach().requires_grad_(True), rather than torch.tensor(sourceTensor).\n",
      "  test_imgs = torch.stack([torch.tensor(img, dtype=torch.float32) for img in test_imgs])\n"
     ]
    }
   ],
   "source": [
    "device = torch.device(\"cuda:0\" if torch.cuda.is_available() else \"cpu\")\n",
    "# Get the testing DataLoader with data transformation (1st parameter) and batch size (2nd parameter)\n",
    "testloader = get_test_dataloader(1,4)"
   ]
  },
  {
   "cell_type": "markdown",
   "metadata": {},
   "source": [
    "## Test T1C1O1\n",
    "- Transformation 1\n",
    "- Loss function 1 : CrossEntropyLoss\n",
    "- Optimizer 1 : SGD (Stochastic Gradient Descent)"
   ]
  },
  {
   "cell_type": "code",
   "execution_count": 3,
   "metadata": {},
   "outputs": [
    {
     "name": "stderr",
     "output_type": "stream",
     "text": [
      "c:\\Users\\Justine_B\\miniconda3\\envs\\pytorch\\Lib\\site-packages\\torchvision\\models\\_utils.py:208: UserWarning: The parameter 'pretrained' is deprecated since 0.13 and may be removed in the future, please use 'weights' instead.\n",
      "  warnings.warn(\n",
      "c:\\Users\\Justine_B\\miniconda3\\envs\\pytorch\\Lib\\site-packages\\torchvision\\models\\_utils.py:223: UserWarning: Arguments other than a weight enum or `None` for 'weights' are deprecated since 0.13 and may be removed in the future. The current behavior is equivalent to passing `weights=ResNet18_Weights.IMAGENET1K_V1`. You can also use `weights=ResNet18_Weights.DEFAULT` to get the most up-to-date weights.\n",
      "  warnings.warn(msg)\n"
     ]
    },
    {
     "name": "stdout",
     "output_type": "stream",
     "text": [
      "Accuracy of the network on the test images : 82 %\n",
      "Classification Errors Confusion Matrix :\n",
      "\n",
      "     0   1\n",
      "0  113  10 \n",
      "1    9 138 \n"
     ]
    }
   ],
   "source": [
    "#Get the pre-trained ResNet model with the last layer changed\n",
    "resnet = getResNetModel(device)\n",
    "# Load the state dictionary of the trained model from the specified file path\n",
    "resnet.load_state_dict(torch.load('./res/ResNet_T1C1O1.pth'))\n",
    "\n",
    "# Evaluate the model on the test data\n",
    "total, correct, conf_matrix = test_model(resnet, testloader, device)\n",
    "# Show the results\n",
    "print_accuracy_results(total, correct)\n",
    "#print_accuracy_species_results(conf_matrix)\n",
    "#print_confusion_matrix(conf_matrix)\n",
    "print_classification_errors(conf_matrix)\n",
    "write_result_report(\"ResNet_T1C1O1.txt\",total, correct,conf_matrix)"
   ]
  },
  {
   "cell_type": "markdown",
   "metadata": {},
   "source": [
    "## Test T1C2O1\n",
    "- Transformation 1\n",
    "- Loss function 2 : Negative Log Likehood Loss\n",
    "- Optimizer 1 : SGD (Stochastic Gradient Descent)"
   ]
  },
  {
   "cell_type": "code",
   "execution_count": 4,
   "metadata": {},
   "outputs": [
    {
     "name": "stdout",
     "output_type": "stream",
     "text": [
      "Accuracy of the network on the test images : 60 %\n",
      "Classification Errors Confusion Matrix :\n",
      "\n",
      "     0   1\n",
      "0  249  63 \n",
      "1   10 275 \n"
     ]
    }
   ],
   "source": [
    "#Get the pre-trained ResNet model with the last layer changed\n",
    "resnet = getResNetModel(device)\n",
    "# Load the state dictionary of the trained model from the specified file path\n",
    "resnet.load_state_dict(torch.load('./res/ResNet_T1C2O1.pth'))\n",
    "\n",
    "# Evaluate the model on the test data\n",
    "total, correct, conf_matrix = test_model(resnet, testloader, device)\n",
    "# Show the results\n",
    "print_accuracy_results(total, correct)\n",
    "#print_accuracy_species_results(conf_matrix)\n",
    "#print_confusion_matrix(conf_matrix)\n",
    "print_classification_errors(conf_matrix)\n",
    "write_result_report(\"ResNet_T1C2O1.txt\",total, correct,conf_matrix)"
   ]
  },
  {
   "cell_type": "markdown",
   "metadata": {},
   "source": [
    "## Test T1C1O2\n",
    "- Transformation 1\n",
    "- Loss function 1 : CrossEntropyLoss\n",
    "- Optimizer 2 : Adam (Adaptive Moment Estimation)"
   ]
  },
  {
   "cell_type": "code",
   "execution_count": 5,
   "metadata": {},
   "outputs": [
    {
     "name": "stdout",
     "output_type": "stream",
     "text": [
      "Accuracy of the network on the test images : 82 %\n",
      "Classification Errors Confusion Matrix :\n",
      "\n",
      "     0   1\n",
      "0  119  11 \n",
      "1   13 131 \n"
     ]
    }
   ],
   "source": [
    "#Get the pre-trained ResNet model with the last layer changed\n",
    "resnet = getResNetModel(device)\n",
    "# Load the state dictionary of the trained model from the specified file path\n",
    "resnet.load_state_dict(torch.load('./res/ResNet_T1C1O2.pth'))\n",
    "\n",
    "# Evaluate the model on the test data\n",
    "total, correct, conf_matrix = test_model(resnet, testloader, device)\n",
    "# Show the results\n",
    "print_accuracy_results(total, correct)\n",
    "#print_accuracy_species_results(conf_matrix)\n",
    "#print_confusion_matrix(conf_matrix)\n",
    "print_classification_errors(conf_matrix)\n",
    "write_result_report(\"ResNet_T1C1O2.txt\",total, correct,conf_matrix)"
   ]
  },
  {
   "cell_type": "markdown",
   "metadata": {},
   "source": [
    "## Test T1C1O3\n",
    "- Transformation 1\n",
    "- Loss function 1 : CrossEntropyLoss\n",
    "- Optimizer 3 : Adagrad"
   ]
  },
  {
   "cell_type": "code",
   "execution_count": 6,
   "metadata": {},
   "outputs": [
    {
     "name": "stdout",
     "output_type": "stream",
     "text": [
      "Accuracy of the network on the test images : 72 %\n",
      "Classification Errors Confusion Matrix :\n",
      "\n",
      "     0   1\n",
      "0  173  13 \n",
      "1   21 210 \n"
     ]
    }
   ],
   "source": [
    "#Get the pre-trained ResNet model with the last layer changed\n",
    "resnet = getResNetModel(device)\n",
    "# Load the state dictionary of the trained model from the specified file path\n",
    "resnet.load_state_dict(torch.load('./res/ResNet_T1C1O3.pth'))\n",
    "\n",
    "# Evaluate the model on the test data\n",
    "total, correct, conf_matrix = test_model(resnet, testloader, device)\n",
    "# Show the results\n",
    "print_accuracy_results(total, correct)\n",
    "#print_accuracy_species_results(conf_matrix)\n",
    "#print_confusion_matrix(conf_matrix)\n",
    "print_classification_errors(conf_matrix)\n",
    "write_result_report(\"ResNet_T1C1O3.txt\",total, correct,conf_matrix)"
   ]
  },
  {
   "cell_type": "markdown",
   "metadata": {},
   "source": [
    "## Test T1C1O4\n",
    "- Transformation 1\n",
    "- Loss function 1 : CrossEntropyLoss\n",
    "- Optimizer 4 : Adadelta"
   ]
  },
  {
   "cell_type": "code",
   "execution_count": 7,
   "metadata": {},
   "outputs": [
    {
     "name": "stdout",
     "output_type": "stream",
     "text": [
      "Accuracy of the network on the test images : 8 %\n",
      "Classification Errors Confusion Matrix :\n",
      "\n",
      "     0   1\n",
      "0  225 208 \n",
      "1  238 721 \n"
     ]
    }
   ],
   "source": [
    "#Get the pre-trained ResNet model with the last layer changed\n",
    "resnet = getResNetModel(device)\n",
    "# Load the state dictionary of the trained model from the specified file path\n",
    "resnet.load_state_dict(torch.load('./res/ResNet_T1C1O4.pth'))\n",
    "\n",
    "# Evaluate the model on the test data\n",
    "total, correct, conf_matrix = test_model(resnet, testloader, device)\n",
    "# Show the results\n",
    "print_accuracy_results(total, correct)\n",
    "#print_accuracy_species_results(conf_matrix)\n",
    "#print_confusion_matrix(conf_matrix)\n",
    "print_classification_errors(conf_matrix)\n",
    "write_result_report(\"ResNet_T1C1O4.txt\",total, correct,conf_matrix)"
   ]
  },
  {
   "cell_type": "markdown",
   "metadata": {},
   "source": [
    "## Test T1C1O5\n",
    "- Transformation 1\n",
    "- Loss function 1 : CrossEntropyLoss\n",
    "- Optimizer 5 : RMSprop"
   ]
  },
  {
   "cell_type": "code",
   "execution_count": 8,
   "metadata": {},
   "outputs": [
    {
     "name": "stdout",
     "output_type": "stream",
     "text": [
      "Accuracy of the network on the test images : 81 %\n",
      "Classification Errors Confusion Matrix :\n",
      "\n",
      "     0   1\n",
      "0  110  17 \n",
      "1    8 146 \n"
     ]
    }
   ],
   "source": [
    "#Get the pre-trained ResNet model with the last layer changed\n",
    "resnet = getResNetModel(device)\n",
    "# Load the state dictionary of the trained model from the specified file path\n",
    "resnet.load_state_dict(torch.load('./res/ResNet_T1C1O5.pth'))\n",
    "\n",
    "# Evaluate the model on the test data\n",
    "total, correct, conf_matrix = test_model(resnet, testloader, device)\n",
    "# Show the results\n",
    "print_accuracy_results(total, correct)\n",
    "#print_accuracy_species_results(conf_matrix)\n",
    "#print_confusion_matrix(conf_matrix)\n",
    "print_classification_errors(conf_matrix)\n",
    "write_result_report(\"ResNet_T1C1O5.txt\",total, correct,conf_matrix)"
   ]
  },
  {
   "cell_type": "markdown",
   "metadata": {},
   "source": [
    "## Test T2C1O1\n",
    "- Transformation 2\n",
    "- Loss function 1 : CrossEntropyLoss\n",
    "- Optimizer 1 : SGD (Stochastic Gradient Descent)"
   ]
  },
  {
   "cell_type": "code",
   "execution_count": 9,
   "metadata": {},
   "outputs": [
    {
     "name": "stdout",
     "output_type": "stream",
     "text": [
      "Accuracy of the network on the test images : 67 %\n",
      "Classification Errors Confusion Matrix :\n",
      "\n",
      "     0   1\n",
      "0  156  55 \n",
      "1   55 228 \n"
     ]
    }
   ],
   "source": [
    "testloader = get_test_dataloader(2,4)\n",
    "#Get the pre-trained ResNet model with the last layer changed\n",
    "resnet = getResNetModel(device)\n",
    "# Load the state dictionary of the trained model from the specified file path\n",
    "resnet.load_state_dict(torch.load('./res/ResNet_T2C1O1.pth'))\n",
    "\n",
    "# Evaluate the model on the test data\n",
    "total, correct, conf_matrix = test_model(resnet, testloader, device)\n",
    "# Show the results\n",
    "print_accuracy_results(total, correct)\n",
    "#print_accuracy_species_results(conf_matrix)\n",
    "#print_confusion_matrix(conf_matrix)\n",
    "print_classification_errors(conf_matrix)\n",
    "write_result_report(\"ResNet_T2C1O1.txt\",total, correct,conf_matrix)"
   ]
  }
 ],
 "metadata": {
  "kernelspec": {
   "display_name": "base",
   "language": "python",
   "name": "python3"
  },
  "language_info": {
   "codemirror_mode": {
    "name": "ipython",
    "version": 3
   },
   "file_extension": ".py",
   "mimetype": "text/x-python",
   "name": "python",
   "nbconvert_exporter": "python",
   "pygments_lexer": "ipython3",
   "version": "3.11.5"
  }
 },
 "nbformat": 4,
 "nbformat_minor": 2
}
