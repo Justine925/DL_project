{
 "cells": [
  {
   "cell_type": "markdown",
   "metadata": {},
   "source": [
    "## Deep Learning and Generative Models\n",
    "\n",
    "#### Project assignment #16\n",
    "\n",
    "### Project objective:\n",
    "\n",
    "· Image classification in PETS dataset\n",
    "\n",
    "### Dataset:\n",
    "\n",
    "· Pets dataset provides the breeds of a large variety of pets https://www.robots.ox.ac.uk/~vgg/data/pets/\n",
    "\n",
    "### Network model:\n",
    "\n",
    "· A classification model should be used for this task. Experiment with different architectures both custom and finetuned pretrained models (e.g. resnet, vgg, ecc)\n",
    "\n",
    "### Detailed information:\n",
    "\n",
    "· Starting from a rgb image of a pet the network should output the class of that image\n",
    "\n",
    "· several augmentation methods can be used to improve the results, experiment with them\n",
    "\n",
    "### Additional notes:\n",
    "\n",
    "· evaluate the model False positive, False negative, True Positive and True negative visualizing the confusion matrix. Some classes are classified better than others?"
   ]
  },
  {
   "cell_type": "markdown",
   "metadata": {},
   "source": [
    "# Realisation\n",
    "\n",
    "* Data\n",
    "Extracted_annotations folder \n",
    "Extracted_images folder\n",
    "\n",
    "* functionsData.py\n",
    "\n",
    "* ImgVisualisation\n",
    "This files help me to see what kind of images the data are composed of and to see the possible problems there could be to link the image to its annotation. \n",
    "In this case I had to reoganize the annotation in the good order to feet with the order of images (alphabetic then numeric). The was also images without annotation (around 40) that I decided to delete.\n",
    "\n",
    "* Models\n",
    "Breeds :\n",
    "    - Pretrained Alexnet \n",
    "    - Custom model"
   ]
  }
 ],
 "metadata": {
  "language_info": {
   "name": "python"
  }
 },
 "nbformat": 4,
 "nbformat_minor": 2
}
