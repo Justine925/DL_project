{
 "cells": [
  {
   "cell_type": "markdown",
   "metadata": {},
   "source": [
    "## Deep Learning and Generative Models Project\n",
    "\n",
    "The project has for purpuse to train models to classify different breeds of cats and dogs.\n",
    "\n",
    "### Saved models\n",
    "\n",
    "Saved models can be found on the following drive link : https://drive.google.com/drive/folders/1A82sqe_0x1P-X86mrrz6bq3UTquiruma?usp=drive_link\n",
    "\n",
    "Files are named this way : ModelName_TxCyOz.\n",
    "withe x for the transformation id, y for the loss function id and z for the optimizer id.\n",
    "The id's matches can be found on the settings.py file.\n",
    "\n",
    "### Train models\n",
    "\n",
    "There is a training file for each model. Before running the code, the parameters can be chosen (Transformation, loss function, optimizer) and the PATH should be modified in function following the pattern explained before.\n",
    "\n",
    "### Test models\n",
    "\n",
    "There is a testing file for each model and a code part for each saved model. Just need to run the files and it will produce a result report."
   ]
  }
 ],
 "metadata": {
  "language_info": {
   "name": "python"
  }
 },
 "nbformat": 4,
 "nbformat_minor": 2
}
