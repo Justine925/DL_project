{
 "cells": [
  {
   "cell_type": "markdown",
   "metadata": {},
   "source": [
    "# Training the fine-tuned VGG convolutional neural network. "
   ]
  },
  {
   "cell_type": "code",
   "execution_count": null,
   "metadata": {},
   "outputs": [],
   "source": [
    "import torch\n",
    "from settings import get_train_dataloader, get_criterion, get_optimizer\n",
    "from functions import train_model\n",
    "from models import getVGGModel"
   ]
  },
  {
   "cell_type": "code",
   "execution_count": null,
   "metadata": {},
   "outputs": [],
   "source": [
    "transform_id = 1\n",
    "batch_size = 4\n",
    "\n",
    "# Get the training DataLoader with data transformation (1st parameter) and batch size (2nd parameter)\n",
    "trainloader = get_train_dataloader(transform_id,batch_size)\n",
    "device = torch.device(\"cuda:0\" if torch.cuda.is_available() else \"cpu\")\n",
    "vgg = getVGGModel(device, True)"
   ]
  },
  {
   "cell_type": "code",
   "execution_count": null,
   "metadata": {},
   "outputs": [],
   "source": [
    "loss_function_id = 1\n",
    "optimizer_id = 1\n",
    "PATH = './res/VGG_T1C1O1.pth'\n",
    "\n",
    "# Get the Loss criterion with the given id in parameter\n",
    "criterion = get_criterion(loss_function_id)\n",
    "# Get the optimizer with the given id in parameter\n",
    "optimizer = get_optimizer(list(vgg.parameters()),optimizer_id)\n",
    "vgg.load_state_dict(torch.load(PATH))\n",
    "# Train the model using the specified criterion, optimizer, DataLoader, device, and number of epochs\n",
    "train_model(vgg, criterion, optimizer, trainloader, device, nb_epoch= 3)\n",
    "# Save the state dictionary of the trained VGG model to the specified file path\n",
    "torch.save(vgg.state_dict(), PATH)"
   ]
  }
 ],
 "metadata": {
  "kernelspec": {
   "display_name": "base",
   "language": "python",
   "name": "python3"
  },
  "language_info": {
   "codemirror_mode": {
    "name": "ipython",
    "version": 3
   },
   "file_extension": ".py",
   "mimetype": "text/x-python",
   "name": "python",
   "nbconvert_exporter": "python",
   "pygments_lexer": "ipython3",
   "version": "3.11.5"
  }
 },
 "nbformat": 4,
 "nbformat_minor": 2
}
