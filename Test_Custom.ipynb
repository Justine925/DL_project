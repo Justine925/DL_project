{
 "cells": [
  {
   "cell_type": "markdown",
   "metadata": {},
   "source": [
    "# Test File"
   ]
  },
  {
   "cell_type": "code",
   "execution_count": 1,
   "metadata": {},
   "outputs": [],
   "source": [
    "import torch\n",
    "from data_handling import print_accuracy_results,print_accuracy_species_results, print_confusion_matrix, print_classification_errors, write_result_report\n",
    "from settings import get_test_dataloader\n",
    "from functions import test_model\n",
    "from models import getCustomModel"
   ]
  },
  {
   "cell_type": "code",
   "execution_count": 2,
   "metadata": {},
   "outputs": [
    {
     "name": "stderr",
     "output_type": "stream",
     "text": [
      "c:\\Users\\Justine_B\\OneDrive\\Documents\\UTC\\GI05\\DL\\DeepLearningAndGenerativeModelsCourse-main\\Project\\settings.py:55: UserWarning: To copy construct from a tensor, it is recommended to use sourceTensor.clone().detach() or sourceTensor.clone().detach().requires_grad_(True), rather than torch.tensor(sourceTensor).\n",
      "  test_imgs = torch.stack([torch.tensor(img, dtype=torch.float32) for img in test_imgs])\n"
     ]
    }
   ],
   "source": [
    "device = torch.device(\"cuda:0\" if torch.cuda.is_available() else \"cpu\")\n",
    "testloader = get_test_dataloader(1,4)"
   ]
  },
  {
   "cell_type": "markdown",
   "metadata": {},
   "source": [
    "## Test T1C1O1\n",
    "- Transformation 1\n",
    "- Loss function 1 : CrossEntropyLoss\n",
    "- Optimizer 1 : SGD (Stochastic Gradient Descent)"
   ]
  },
  {
   "cell_type": "code",
   "execution_count": 3,
   "metadata": {},
   "outputs": [
    {
     "name": "stdout",
     "output_type": "stream",
     "text": [
      "Accuracy of the network on the test images : 18 %\n",
      "Classification Errors Confusion Matrix :\n",
      "\n",
      "     0   1\n",
      "0  235 299 \n",
      "1  125 589 \n"
     ]
    }
   ],
   "source": [
    "transform_id = 1\n",
    "batch_size = 4\n",
    "\n",
    "trainloader = get_test_dataloader(transform_id,batch_size)\n",
    "device = torch.device(\"cuda:0\" if torch.cuda.is_available() else \"cpu\")\n",
    "\n",
    "net = getCustomModel(device)\n",
    "net.load_state_dict(torch.load('./res/Custom_T1C1O1.pth'))\n",
    "\n",
    "total, correct, conf_matrix = test_model(net, testloader, device)\n",
    "print_accuracy_results(total, correct)\n",
    "#print_accuracy_species_results(conf_matrix)\n",
    "#print_confusion_matrix(conf_matrix)\n",
    "print_classification_errors(conf_matrix)\n",
    "write_result_report(\"Custom_T1C1O1.txt\",total, correct,conf_matrix)"
   ]
  },
  {
   "cell_type": "markdown",
   "metadata": {},
   "source": [
    "## Test T1C2O1\n",
    "- Transformation 1\n",
    "- Loss function 2 : Negative Log Likehood Loss\n",
    "- Optimizer 1 : SGD (Stochastic Gradient Descent)"
   ]
  },
  {
   "cell_type": "code",
   "execution_count": 4,
   "metadata": {},
   "outputs": [
    {
     "name": "stdout",
     "output_type": "stream",
     "text": [
      "Accuracy of the network on the test images : 3 %\n",
      "Classification Errors Confusion Matrix :\n",
      "\n",
      "     0   1\n",
      "0  445 1034 \n",
      "1    0   0 \n"
     ]
    }
   ],
   "source": [
    "transform_id = 1\n",
    "batch_size = 4\n",
    "\n",
    "trainloader = get_test_dataloader(transform_id,batch_size)\n",
    "device = torch.device(\"cuda:0\" if torch.cuda.is_available() else \"cpu\")\n",
    "\n",
    "net = getCustomModel(device)\n",
    "net.load_state_dict(torch.load('./res/Custom_T1C2O1.pth'))\n",
    "\n",
    "total, correct, conf_matrix = test_model(net, testloader, device)\n",
    "print_accuracy_results(total, correct)\n",
    "#print_accuracy_species_results(conf_matrix)\n",
    "#print_confusion_matrix(conf_matrix)\n",
    "print_classification_errors(conf_matrix)\n",
    "write_result_report(\"Custom_T1C2O1.txt\",total, correct,conf_matrix)"
   ]
  },
  {
   "cell_type": "markdown",
   "metadata": {},
   "source": [
    "## Test T1C1O2\n",
    "- Transformation 1\n",
    "- Loss function 1 : CrossEntropyLoss\n",
    "- Optimizer 2 : Adam (Adaptive Moment Estimation)"
   ]
  },
  {
   "cell_type": "code",
   "execution_count": 5,
   "metadata": {},
   "outputs": [
    {
     "name": "stdout",
     "output_type": "stream",
     "text": [
      "Accuracy of the network on the test images : 12 %\n",
      "Classification Errors Confusion Matrix :\n",
      "\n",
      "     0   1\n",
      "0  161 276 \n",
      "1  249 645 \n"
     ]
    }
   ],
   "source": [
    "transform_id = 1\n",
    "batch_size = 4\n",
    "\n",
    "trainloader = get_test_dataloader(transform_id,batch_size)\n",
    "device = torch.device(\"cuda:0\" if torch.cuda.is_available() else \"cpu\")\n",
    "\n",
    "net = getCustomModel(device)\n",
    "net.load_state_dict(torch.load('./res/Custom_T1C1O2.pth'))\n",
    "\n",
    "total, correct, conf_matrix = test_model(net, testloader, device)\n",
    "print_accuracy_results(total, correct)\n",
    "#print_accuracy_species_results(conf_matrix)\n",
    "#print_confusion_matrix(conf_matrix)\n",
    "print_classification_errors(conf_matrix)\n",
    "write_result_report(\"Custom_T1C1O2.txt\",total, correct,conf_matrix)"
   ]
  },
  {
   "cell_type": "markdown",
   "metadata": {},
   "source": [
    "## Test T1C1O3\n",
    "- Transformation 1\n",
    "- Loss function 1 : CrossEntropyLoss\n",
    "- Optimizer 3 : Adagrad"
   ]
  },
  {
   "cell_type": "code",
   "execution_count": 6,
   "metadata": {},
   "outputs": [
    {
     "name": "stdout",
     "output_type": "stream",
     "text": [
      "Accuracy of the network on the test images : 9 %\n",
      "Classification Errors Confusion Matrix :\n",
      "\n",
      "     0   1\n",
      "0  153 296 \n",
      "1  290 647 \n"
     ]
    }
   ],
   "source": [
    "transform_id = 1\n",
    "batch_size = 4\n",
    "\n",
    "trainloader = get_test_dataloader(transform_id,batch_size)\n",
    "device = torch.device(\"cuda:0\" if torch.cuda.is_available() else \"cpu\")\n",
    "\n",
    "net = getCustomModel(device)\n",
    "net.load_state_dict(torch.load('./res/Custom_T1C1O3.pth'))\n",
    "\n",
    "total, correct, conf_matrix = test_model(net, testloader, device)\n",
    "print_accuracy_results(total, correct)\n",
    "#print_accuracy_species_results(conf_matrix)\n",
    "#print_confusion_matrix(conf_matrix)\n",
    "print_classification_errors(conf_matrix)\n",
    "write_result_report(\"Custom_T1C1O3.txt\",total, correct,conf_matrix)"
   ]
  },
  {
   "cell_type": "markdown",
   "metadata": {},
   "source": [
    "## Test T1C1O4\n",
    "- Transformation 1\n",
    "- Loss function 1 : CrossEntropyLoss\n",
    "- Optimizer 4 : Adadelta"
   ]
  },
  {
   "cell_type": "code",
   "execution_count": 7,
   "metadata": {},
   "outputs": [
    {
     "name": "stdout",
     "output_type": "stream",
     "text": [
      "Accuracy of the network on the test images : 7 %\n",
      "Classification Errors Confusion Matrix :\n",
      "\n",
      "     0   1\n",
      "0  201 367 \n",
      "1  249 592 \n"
     ]
    }
   ],
   "source": [
    "transform_id = 1\n",
    "batch_size = 4\n",
    "\n",
    "trainloader = get_test_dataloader(transform_id,batch_size)\n",
    "device = torch.device(\"cuda:0\" if torch.cuda.is_available() else \"cpu\")\n",
    "\n",
    "net = getCustomModel(device)\n",
    "net.load_state_dict(torch.load('./res/Custom_T1C1O4.pth'))\n",
    "\n",
    "total, correct, conf_matrix = test_model(net, testloader, device)\n",
    "print_accuracy_results(total, correct)\n",
    "#print_accuracy_species_results(conf_matrix)\n",
    "#print_confusion_matrix(conf_matrix)\n",
    "print_classification_errors(conf_matrix)\n",
    "write_result_report(\"Custom_T1C1O4.txt\",total, correct,conf_matrix)"
   ]
  },
  {
   "cell_type": "markdown",
   "metadata": {},
   "source": [
    "## Test T1C1O5\n",
    "- Transformation 1\n",
    "- Loss function 1 : CrossEntropyLoss\n",
    "- Optimizer 5 : RMSprop"
   ]
  },
  {
   "cell_type": "code",
   "execution_count": 8,
   "metadata": {},
   "outputs": [
    {
     "name": "stdout",
     "output_type": "stream",
     "text": [
      "Accuracy of the network on the test images : 9 %\n",
      "Classification Errors Confusion Matrix :\n",
      "\n",
      "     0   1\n",
      "0  140 262 \n",
      "1  303 672 \n"
     ]
    }
   ],
   "source": [
    "transform_id = 1\n",
    "batch_size = 4\n",
    "\n",
    "trainloader = get_test_dataloader(transform_id,batch_size)\n",
    "device = torch.device(\"cuda:0\" if torch.cuda.is_available() else \"cpu\")\n",
    "\n",
    "net = getCustomModel(device)\n",
    "net.load_state_dict(torch.load('./res/Custom_T1C1O5.pth'))\n",
    "\n",
    "total, correct, conf_matrix = test_model(net, testloader, device)\n",
    "print_accuracy_results(total, correct)\n",
    "#print_accuracy_species_results(conf_matrix)\n",
    "#print_confusion_matrix(conf_matrix)\n",
    "print_classification_errors(conf_matrix)\n",
    "write_result_report(\"Custom_T1C1O5.txt\",total, correct,conf_matrix)"
   ]
  },
  {
   "cell_type": "markdown",
   "metadata": {},
   "source": [
    "## Test T2C1O1\n",
    "- Transformation 2\n",
    "- Loss function 1 : CrossEntropyLoss\n",
    "- Optimizer 1 : SGD (Stochastic Gradient Descent)"
   ]
  },
  {
   "cell_type": "code",
   "execution_count": 9,
   "metadata": {},
   "outputs": [
    {
     "name": "stdout",
     "output_type": "stream",
     "text": [
      "Accuracy of the network on the test images : 4 %\n",
      "Classification Errors Confusion Matrix :\n",
      "\n",
      "     0   1\n",
      "0  200 411 \n",
      "1  272 575 \n"
     ]
    }
   ],
   "source": [
    "transform_id = 2\n",
    "batch_size = 4\n",
    "\n",
    "trainloader = get_test_dataloader(transform_id,batch_size)\n",
    "device = torch.device(\"cuda:0\" if torch.cuda.is_available() else \"cpu\")\n",
    "\n",
    "net = getCustomModel(device)\n",
    "net.load_state_dict(torch.load('./res/Custom_T2C1O1.pth'))\n",
    "\n",
    "total, correct, conf_matrix = test_model(net, testloader, device)\n",
    "print_accuracy_results(total, correct)\n",
    "#print_accuracy_species_results(conf_matrix)\n",
    "#print_confusion_matrix(conf_matrix)\n",
    "print_classification_errors(conf_matrix)\n",
    "write_result_report(\"Custom_T2C1O1.txt\",total, correct,conf_matrix)"
   ]
  }
 ],
 "metadata": {
  "kernelspec": {
   "display_name": "base",
   "language": "python",
   "name": "python3"
  },
  "language_info": {
   "codemirror_mode": {
    "name": "ipython",
    "version": 3
   },
   "file_extension": ".py",
   "mimetype": "text/x-python",
   "name": "python",
   "nbconvert_exporter": "python",
   "pygments_lexer": "ipython3",
   "version": "3.11.5"
  }
 },
 "nbformat": 4,
 "nbformat_minor": 2
}
